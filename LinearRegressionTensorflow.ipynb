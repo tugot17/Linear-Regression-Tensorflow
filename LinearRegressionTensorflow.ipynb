{
 "cells": [
  {
   "cell_type": "markdown",
   "metadata": {},
   "source": [
    "# Linear Regression\n",
    "\n",
    "In this I python notebook we will focus on $\\textit{Linear Regression}$ task. We will solve problem using <b>Tensorflow</b> machine learning framework\n",
    "<img src=\"data_files/title_plot.jpg\" height=\"40%\" width=\"40%\">"
   ]
  },
  {
   "cell_type": "markdown",
   "metadata": {},
   "source": [
    "# Problem\n",
    "\n",
    "This type of problem is called $\\textit{Supervised learning}$ problem\n",
    "\n",
    "Training set contains $N$ data points $(x_i, y_i) \\: \\mid \\: x_i \\in \\mathbb{R}^{d_1}, y_i \\in \\mathbb{R}^{d_2}, i = 1, \\dots, N $. \n",
    "\n",
    "For a given set $D = \\{(x_n, y_n)\\}_{n=1}^N$ predict the $\\textit{y}$ for the new $\\textbf{x}$. \n",
    "\n",
    "<img src=\"data_files/example1.jpg\" height=\"40%\" width=\"40%\">\n",
    "<img src=\"data_files/example2.jpg\" height=\"40%\" width=\"40%\">\n",
    "\n",
    "\n",
    "<h3> Example </h3>\n",
    "Flat size of $x_n$ has the price $y_n$. We have the following data:\n",
    "<table style=\"width:30%\">\n",
    "  <tr>\n",
    "    <th>Flat size $[m^2]$</th>\n",
    "    <th>Price $[k \\$]$</th> \n",
    "  </tr>\n",
    "  <tr>\n",
    "    <td>20</td>\n",
    "    <td>100</td> \n",
    "  </tr>\n",
    "  <tr>\n",
    "    <td>30</td>\n",
    "    <td>180</td> \n",
    "  </tr>\n",
    "  \n",
    "  <tr>\n",
    "    <td>55</td>\n",
    "    <td>320</td> \n",
    "  </tr>\n",
    "  \n",
    "   <tr>\n",
    "    <td>80</td>\n",
    "    <td>450</td> \n",
    "  </tr>\n",
    "</table>\n",
    "\n",
    "We want to predict price $\\textit{y}$ for the new flat $\\textbf{x}$ based on its size.\n",
    "<table style=\"width:30%\">\n",
    "  <tr>\n",
    "    <th>Flat size $[m^2]$</th>\n",
    "    <th>Price $[k \\$]$</th> \n",
    "  </tr>\n",
    "  <tr>\n",
    "    <td>45</td>\n",
    "    <td>?</td> \n",
    "  </tr>\n",
    "  <tr>\n",
    "    <td>70</td>\n",
    "    <td>?</td> \n",
    "  </tr>\n",
    "</table>\n",
    "\n"
   ]
  },
  {
   "cell_type": "markdown",
   "metadata": {},
   "source": [
    "# Solution\n",
    "\n",
    "Our goal is to find parameters $\\textit{W}$ of function $f_{W} \\colon \\mathbb{R}^{d_1} \\rightarrow \\mathbb{R}^{d_2}$ given by $$ f_W(x) = Wx $$ \n",
    "\n",
    "\n",
    "where the data matrix $W \\in \\mathbb{R}^{d_2 \\times d_1}$ holds the _parameters_ of the model.\n",
    "\n",
    "To find best parameter $\\textit{W}$ we need to define a  $\\textit{Learning problem}$. \n",
    "\n",
    " $\\textit{Learning problem}$: Find a  $\\textit{W}$ such that minimizes the residuals $\\Delta$:\n",
    " \n",
    "<center>$\\hat{w} = arg min_{w}\\lVert \\Delta \\rVert$ </center>\n",
    "\n",
    "<center> defined by $\\Delta_{i} = y_i - \\hat{y}(x_i, w)$ </center>\n",
    "[1]\n",
    "\n"
   ]
  },
  {
   "cell_type": "markdown",
   "metadata": {},
   "source": [
    "# Imports"
   ]
  },
  {
   "cell_type": "code",
   "execution_count": 1,
   "metadata": {},
   "outputs": [],
   "source": [
    "import numpy as np\n",
    "import matplotlib.pyplot as plt\n",
    "import tensorflow as tf"
   ]
  },
  {
   "cell_type": "code",
   "execution_count": 2,
   "metadata": {},
   "outputs": [],
   "source": [
    "np.random.seed(42)\n",
    "tf.random.set_random_seed(42)"
   ]
  },
  {
   "cell_type": "markdown",
   "metadata": {},
   "source": [
    "# Generate Data \n",
    "\n",
    "To check the how our model works we need some data, so lets generate it. We will generate 2 data sets, ground truth data set and observations data set. Obsrervations (like in a real world) will contain some noise. "
   ]
  },
  {
   "cell_type": "code",
   "execution_count": 3,
   "metadata": {},
   "outputs": [],
   "source": [
    "def get_generated_data(x):\n",
    "    \"\"\"\n",
    "    :param x: vector of observation, x values\n",
    "    :return: y value for a given vector of observation\n",
    "    \"\"\"\n",
    "    return np.sin(1.1*x) - np.cos(1.9 * x)"
   ]
  },
  {
   "cell_type": "code",
   "execution_count": 4,
   "metadata": {},
   "outputs": [],
   "source": [
    "observed_samples_number = 50\n",
    "noise_ratio = 0.3"
   ]
  },
  {
   "cell_type": "code",
   "execution_count": 5,
   "metadata": {},
   "outputs": [],
   "source": [
    "observation_data = np.random.uniform(low=-np.pi, high=np.pi, size=(observed_samples_number, 1))\n",
    "values_for_observation = get_generated_data(observation_data) + noise_ratio * np.random.normal(\n",
    "    size=observation_data.shape)\n",
    "\n",
    "xs = np.linspace(-np.pi, np.pi, 50)[:, np.newaxis]\n",
    "ys = get_generated_data(xs)"
   ]
  },
  {
   "cell_type": "markdown",
   "metadata": {},
   "source": [
    "# Plot Genrated Data"
   ]
  },
  {
   "cell_type": "code",
   "execution_count": 6,
   "metadata": {},
   "outputs": [
    {
     "data": {
      "text/plain": [
       "<matplotlib.legend.Legend at 0x21ba91f33c8>"
      ]
     },
     "execution_count": 6,
     "metadata": {},
     "output_type": "execute_result"
    },
    {
     "data": {
      "image/png": "[encoded data removed]",
      "text/plain": [
       "<Figure size 432x288 with 1 Axes>"
      ]
     },
     "metadata": {},
     "output_type": "display_data"
    }
   ],
   "source": [
    "plt.plot(xs, ys, label=\"ground truth\")\n",
    "plt.scatter(observation_data, values_for_observation, marker=\"x\", c=\"r\", label=\"samples\")\n",
    "plt.legend()"
   ]
  },
  {
   "cell_type": "markdown",
   "metadata": {},
   "source": [
    "# Finding parameters W"
   ]
  },
  {
   "cell_type": "markdown",
   "metadata": {},
   "source": [
    "Our model will be simple Linear Regression model such as: $\\hat{y}(x, W, b) = x * W + b$"
   ]
  },
  {
   "cell_type": "code",
   "execution_count": 7,
   "metadata": {},
   "outputs": [
    {
     "name": "stdout",
     "output_type": "stream",
     "text": [
      "WARNING:tensorflow:From c:\\users\\piotr\\appdata\\local\\programs\\python\\python36\\lib\\site-packages\\tensorflow\\python\\framework\\op_def_library.py:263: colocate_with (from tensorflow.python.framework.ops) is deprecated and will be removed in a future version.\n",
      "Instructions for updating:\n",
      "Colocations handled automatically by placer.\n",
      "Tensor(\"linear_model/add:0\", shape=(?, 1), dtype=float32)\n",
      "Tensor(\"data_input:0\", shape=(?, 1), dtype=float32)\n"
     ]
    }
   ],
   "source": [
    "data_input = tf.placeholder(dtype=tf.float32, shape=(None, 1), name=\"data_input\")\n",
    "target_output = tf.placeholder(dtype=tf.float32, shape=(None, 1), name=\"target_input\")\n",
    "\n",
    "with tf.variable_scope(\"linear_model\", reuse=tf.AUTO_REUSE):\n",
    "\n",
    "    W = tf.get_variable(name=\"w\", shape=(1, 1), dtype=tf.float32, \n",
    "                        initializer=tf.initializers.random_normal())\n",
    "    b = tf.get_variable(name=\"b\", shape=(1, 1), dtype=tf.float32, \n",
    "                        initializer=tf.initializers.zeros())\n",
    "    model_output = W * data_input + b\n",
    "        \n",
    "print(model_output)\n",
    "print(data_input)"
   ]
  },
  {
   "cell_type": "markdown",
   "metadata": {},
   "source": [
    "# Defining lost function"
   ]
  },
  {
   "cell_type": "markdown",
   "metadata": {},
   "source": [
    "To measure how good our model is we would use the cost function called Mean Squered Error\n",
    "\n",
    "$E = \\frac{1}{2N}\\lVert\\overline{\\textbf{y}} - \\textbf{y}\\rVert_2^2$\n",
    "\n",
    "$\\lVert \\overline{\\textbf{y}} - \\textbf{y}\\rVert_2$ is called Norm 2 <br>\n",
    "In linear algebra, functional analysis, and related areas of mathematics, a norm is a function that assigns a strictly positive length or size to each vector in a vector space\n",
    "<br>\n",
    "\n",
    "$\\lVert\\textbf{x}\\rVert_2 = \\sqrt[2]{\\sum_{n=1}^{N} x_n^2}$"
   ]
  },
  {
   "cell_type": "code",
   "execution_count": 8,
   "metadata": {},
   "outputs": [
    {
     "name": "stdout",
     "output_type": "stream",
     "text": [
      "WARNING:tensorflow:From c:\\users\\piotr\\appdata\\local\\programs\\python\\python36\\lib\\site-packages\\tensorflow\\python\\ops\\losses\\losses_impl.py:667: to_float (from tensorflow.python.ops.math_ops) is deprecated and will be removed in a future version.\n",
      "Instructions for updating:\n",
      "Use tf.cast instead.\n"
     ]
    }
   ],
   "source": [
    "with tf.name_scope(\"cost_function_linear\"):\n",
    "    cost_function = tf.losses.mean_squared_error(model_output, target_output)"
   ]
  },
  {
   "cell_type": "markdown",
   "metadata": {},
   "source": [
    "# Model optimization "
   ]
  },
  {
   "cell_type": "markdown",
   "metadata": {},
   "source": [
    "To best fitting $W$  & $b$ parameters we have to find cost function minimum. To do so we will use Gradient Descent Optimization method. "
   ]
  },
  {
   "cell_type": "code",
   "execution_count": 9,
   "metadata": {},
   "outputs": [],
   "source": [
    "with tf.name_scope(\"optimizer_linear\"):\n",
    "    optimizer = tf.train.GradientDescentOptimizer(learning_rate=1e-3)\n",
    "    optimization_step = optimizer.minimize(cost_function)"
   ]
  },
  {
   "cell_type": "markdown",
   "metadata": {},
   "source": [
    "# Train the model"
   ]
  },
  {
   "cell_type": "code",
   "execution_count": 10,
   "metadata": {},
   "outputs": [],
   "source": [
    "n_iteration_steps = 10_000\n",
    "init = tf.global_variables_initializer()"
   ]
  },
  {
   "cell_type": "code",
   "execution_count": 11,
   "metadata": {},
   "outputs": [
    {
     "name": "stdout",
     "output_type": "stream",
     "text": [
      "iteration: 0, loss: 3.508275032043457\n",
      "iteration: 2000, loss: 0.6946381330490112\n",
      "iteration: 4000, loss: 0.6946277618408203\n",
      "iteration: 6000, loss: 0.6946277618408203\n",
      "iteration: 8000, loss: 0.6946278214454651\n"
     ]
    }
   ],
   "source": [
    "with tf.Session() as sess:\n",
    "    sess.run(init)\n",
    "\n",
    "    for i in range(n_iteration_steps):\n",
    "\n",
    "        current_loss, _ = sess.run([cost_function, optimization_step], feed_dict={\n",
    "            data_input: observation_data,\n",
    "            target_output: values_for_observation\n",
    "        })\n",
    "        \n",
    "\n",
    "        if i % 2000 == 0:\n",
    "            print(f\"iteration: {i}, loss: {current_loss}\")\n",
    "            \n",
    "    predictions = sess.run(model_output, feed_dict={data_input: xs})    "
   ]
  },
  {
   "cell_type": "code",
   "execution_count": 12,
   "metadata": {},
   "outputs": [
    {
     "data": {
      "text/plain": [
       "<matplotlib.legend.Legend at 0x21ba93b4f28>"
      ]
     },
     "execution_count": 12,
     "metadata": {},
     "output_type": "execute_result"
    },
    {
     "data": {
      "image/png": "[encoded data removed]",
      "text/plain": [
       "<Figure size 432x288 with 1 Axes>"
      ]
     },
     "metadata": {},
     "output_type": "display_data"
    }
   ],
   "source": [
    "plt.plot(xs, ys, label=\"ground truth\")\n",
    "plt.plot(xs, predictions, c=\"r\", label=\"predictions\")\n",
    "plt.scatter(observation_data, values_for_observation, marker=\"x\", c=\"g\", label=\"observations\")\n",
    "plt.legend()"
   ]
  },
  {
   "cell_type": "markdown",
   "metadata": {},
   "source": [
    "As we can see our model doesn't perform really good. To find better solution we will have to use some more sphisticated model e.g. Polynomial regression."
   ]
  },
  {
   "cell_type": "markdown",
   "metadata": {},
   "source": [
    "# Polynomial Regression "
   ]
  },
  {
   "cell_type": "markdown",
   "metadata": {},
   "source": [
    "In statistics, polynomial regression is a form of regression analysis in which the relationship between the independent variable x and the dependent variable y is modelled as an nth degree polynomial in x.[2]\n",
    "\n",
    "E.g:\n",
    "\n",
    "$\\hat{y}(x, W, b) =  w_1 * x + w_2 * x^2 + \\dots + w^n*x^n$"
   ]
  },
  {
   "cell_type": "markdown",
   "metadata": {},
   "source": [
    "# Design matrix $\\Phi$\n",
    "\n",
    "Design matrix $\\Phi$ is matrix of values of explanatory variables of a set of objects. Depending on the definition it takes different forms e.g:\n",
    "<br>\n",
    "$\\phi(x) = \\begin{pmatrix}\n",
    "x & x^2 & x^ 3x\\\\\n",
    "\\end{pmatrix}^T$\n",
    "<br>\n",
    "$\\phi(x) = \\begin{pmatrix}\n",
    "1 & e^x & e^{2x} \\\\\n",
    "\\end{pmatrix}^T$\n",
    "<br>\n",
    "Where $x$ is the vector of observations $x_n$\n",
    "<h3> Example: </h3>\n",
    "\n",
    "$ x = \\begin{bmatrix}\n",
    "           1 \\\\ 2 \\\\ 3 \n",
    "         \\end{bmatrix} $\n",
    "\n",
    "$\\phi(x) = \\begin{pmatrix}\n",
    "x & x^2 & x^3\\\\\n",
    "\\end{pmatrix}^T \\quad \\; \\; \\Phi=\\begin{bmatrix}\n",
    "       1 & 1 & 1\\\\\n",
    "       2 & 4 & 8\\\\\n",
    "       3 & 9 & 27\\\\\n",
    "     \\end{bmatrix}$ \n",
    "\n",
    "$\\phi(x) = \\begin{pmatrix}\n",
    "1 & e^x & e^{2x} \\\\\n",
    "\\end {pmatrix}^T \\quad \\Phi=\\begin{bmatrix}\n",
    "       1 & e^1 & e^2 \\\\\n",
    "       1 & e^2 & e^4 \\\\\n",
    "       1 & e^3 & e^6 \\\\\n",
    "     \\end{bmatrix}$\n",
    "     \n",
    "<br>\n",
    "In our example I would use <b>only first form<b> of polynomial matrix\n"
   ]
  },
  {
   "cell_type": "code",
   "execution_count": 13,
   "metadata": {},
   "outputs": [],
   "source": [
    "def design_matrix(x_train, degree_of_polynomial):\n",
    "    '''\n",
    "    :param x_train: vector of input values Nx1\n",
    "    :param degree_of_polynomial: degree of polynomial e.g. 1,2,...\n",
    "    :return: Design Matrix X_train for polynomial degree of M\n",
    "    '''\n",
    "    matrix = np.array([x_train ** i for i in range(1, degree_of_polynomial + 1)]).T\n",
    "\n",
    "    return matrix[0]\n"
   ]
  },
  {
   "cell_type": "markdown",
   "metadata": {},
   "source": [
    "### Example"
   ]
  },
  {
   "cell_type": "code",
   "execution_count": 14,
   "metadata": {},
   "outputs": [
    {
     "name": "stdout",
     "output_type": "stream",
     "text": [
      "Input vector: \n",
      " [[1]\n",
      " [2]\n",
      " [3]]\n",
      "\n",
      "Design matrix: \n",
      " [[ 1  1  1  1]\n",
      " [ 2  4  8 16]\n",
      " [ 3  9 27 81]]\n",
      "Design shape: \n",
      " (3, 4)\n"
     ]
    }
   ],
   "source": [
    "a = np.array([1,2,3])\n",
    "a = np.reshape(a, (3,1))\n",
    "\n",
    "print(\"Input vector: \\n\", a)\n",
    "print()\n",
    "print (\"Design matrix: \\n\", design_matrix(a, degree_of_polynomial = 4))\n",
    "print (\"Design shape: \\n\", design_matrix(a, 4).shape)"
   ]
  },
  {
   "cell_type": "markdown",
   "metadata": {},
   "source": [
    "# Hyperparameters"
   ]
  },
  {
   "cell_type": "code",
   "execution_count": 15,
   "metadata": {},
   "outputs": [],
   "source": [
    "degree_of_polynomial = 4\n",
    "lambda_parameter = 1e-4\n",
    "learning_rate = 1e-4\n",
    "n_iteration_steps = 50_000"
   ]
  },
  {
   "cell_type": "markdown",
   "metadata": {},
   "source": [
    "# Transforming data\n",
    "\n",
    "Our new model will be polynomial (non-linear) model, so we need to transform our data. Insead of signle dim data, now we will expand it using Design Matrix $\\Phi$"
   ]
  },
  {
   "cell_type": "code",
   "execution_count": 16,
   "metadata": {},
   "outputs": [],
   "source": [
    "observation_data_design_matrix = design_matrix(observation_data, degree_of_polynomial)\n",
    "xs_design_matrix = design_matrix(xs, degree_of_polynomial)"
   ]
  },
  {
   "cell_type": "markdown",
   "metadata": {},
   "source": [
    "# Finding parameters W\n",
    "\n",
    "Our new model will be Polynomial regression Regression model such as $X * W = \\textbf{Y}$\n",
    "\n",
    "Where:\n",
    "\n",
    "$X$ is Design matrix of size (N,$d_1$)<br>\n",
    "$W$ is matrix of weights, $\\colon \\mathbb{R}^{d_1} \\rightarrow \\mathbb{R}^{d_2}$<br>\n",
    "$Y$ is result matrix of a size (N, $d_2$), in our example $d_2$ will be just 1"
   ]
  },
  {
   "cell_type": "code",
   "execution_count": 17,
   "metadata": {},
   "outputs": [],
   "source": [
    "data_input = tf.placeholder(dtype=tf.float32, shape=(None, degree_of_polynomial), name=\"data_input\")\n",
    "target_output = tf.placeholder(dtype=tf.float32, shape=(None, 1), name=\"target_input\")"
   ]
  },
  {
   "cell_type": "code",
   "execution_count": 18,
   "metadata": {},
   "outputs": [],
   "source": [
    "with tf.variable_scope(\"polynomial_model\", reuse=tf.AUTO_REUSE):\n",
    "    W = tf.get_variable(name=\"w\", shape=(degree_of_polynomial, 1), dtype=tf.float32,\n",
    "                        initializer=tf.initializers.random_normal())\n",
    "    b = tf.get_variable(name=\"b\", shape=(1, 1), dtype=tf.float32,\n",
    "                        initializer=tf.initializers.random_normal())\n",
    "    \n",
    "    model_output = tf.linalg.matmul(data_input, W) + b\n"
   ]
  },
  {
   "cell_type": "markdown",
   "metadata": {},
   "source": [
    "# Cost function \n",
    "\n",
    "As a cost function we will again use MSE, but this time to avoid overfitting we will add Tikhonov Regularization [3] "
   ]
  },
  {
   "cell_type": "code",
   "execution_count": 19,
   "metadata": {},
   "outputs": [],
   "source": [
    "tikhonov_regularization = lambda_parameter * tf.math.reduce_sum(W)\n",
    "\n",
    "with tf.name_scope(\"cost_function_polynomial\"):\n",
    "    cost_function = tf.losses.mean_squared_error(model_output, target_output) + tikhonov_regularization"
   ]
  },
  {
   "cell_type": "markdown",
   "metadata": {},
   "source": [
    "# Optimization\n",
    "\n",
    "Again we will optimize parameters using Gradient Descent"
   ]
  },
  {
   "cell_type": "code",
   "execution_count": 20,
   "metadata": {},
   "outputs": [],
   "source": [
    "with tf.name_scope(\"optimizer_polynomial\"):\n",
    "    optimizer = tf.train.GradientDescentOptimizer(learning_rate=learning_rate)\n",
    "    optimization_step = optimizer.minimize(cost_function)"
   ]
  },
  {
   "cell_type": "code",
   "execution_count": 21,
   "metadata": {},
   "outputs": [
    {
     "name": "stdout",
     "output_type": "stream",
     "text": [
      "iteration: 0, loss: 1450.1702880859375\n",
      "iteration: 5000, loss: 0.24354974925518036\n",
      "iteration: 10000, loss: 0.19114713370800018\n",
      "iteration: 15000, loss: 0.16842803359031677\n",
      "iteration: 20000, loss: 0.15550565719604492\n",
      "iteration: 25000, loss: 0.14776214957237244\n",
      "iteration: 30000, loss: 0.14297667145729065\n",
      "iteration: 35000, loss: 0.1399555802345276\n",
      "iteration: 40000, loss: 0.13802103698253632\n",
      "iteration: 45000, loss: 0.1367703378200531\n"
     ]
    }
   ],
   "source": [
    "init = tf.global_variables_initializer()\n",
    "\n",
    "with tf.Session() as sess:\n",
    "    sess.run(init)\n",
    "\n",
    "    for i in range(n_iteration_steps):\n",
    "        current_loss, _ = sess.run([cost_function, optimization_step],\n",
    "                                   feed_dict={\n",
    "                                       data_input: observation_data_design_matrix,\n",
    "                                       target_output: values_for_observation\n",
    "                                   })\n",
    "\n",
    "        if i % 5000 == 0:\n",
    "            print(f\"iteration: {i}, loss: {current_loss}\")\n",
    "            \n",
    "        predictions = sess.run(model_output, feed_dict={data_input: xs_design_matrix})"
   ]
  },
  {
   "cell_type": "code",
   "execution_count": 22,
   "metadata": {},
   "outputs": [
    {
     "data": {
      "image/png": "[encoded data removed]",
      "text/plain": [
       "<Figure size 432x288 with 1 Axes>"
      ]
     },
     "metadata": {},
     "output_type": "display_data"
    }
   ],
   "source": [
    "plt.scatter(observation_data, values_for_observation, c=\"g\", label=\"observations\")\n",
    "plt.plot(xs, ys, c=\"r\", label=\"ground truth\")\n",
    "plt.plot(xs, predictions, label=\"predictions\")\n",
    "plt.legend()\n",
    "plt.show()"
   ]
  },
  {
   "cell_type": "markdown",
   "metadata": {},
   "source": [
    "As we can see, new model works much better"
   ]
  },
  {
   "cell_type": "markdown",
   "metadata": {},
   "source": [
    "# Sources\n",
    "\n",
    "[1] Frank Noe Deep Learning Lectures FU Berlin Sommer Semester 2019<br>\n",
    "[2] https://en.wikipedia.org/wiki/Polynomial_regression<br>\n",
    "[3] https://en.wikipedia.org/wiki/Tikhonov_regularization\n"
   ]
  }
 ],
 "metadata": {
  "kernelspec": {
   "display_name": "Python 3",
   "language": "python",
   "name": "python3"
  },
  "language_info": {
   "codemirror_mode": {
    "name": "ipython",
    "version": 3
   },
   "file_extension": ".py",
   "mimetype": "text/x-python",
   "name": "python",
   "nbconvert_exporter": "python",
   "pygments_lexer": "ipython3",
   "version": "3.6.5"
  }
 },
 "nbformat": 4,
 "nbformat_minor": 2
}
